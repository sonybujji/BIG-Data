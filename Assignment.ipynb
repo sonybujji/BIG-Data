{
 "cells": [
  {
   "cell_type": "markdown",
   "metadata": {},
   "source": [
    "# Assignment 1 - Pandas and Plotting\n",
    "\n",
    "#### Sindhura Avula\n",
    "#### Student ID: too287"
   ]
  },
  {
   "cell_type": "code",
   "execution_count": 1,
   "metadata": {},
   "outputs": [],
   "source": [
    "import pandas as pd \n",
    "import os\n",
    "import matplotlib.pyplot as plt"
   ]
  },
  {
   "cell_type": "code",
   "execution_count": 2,
   "metadata": {},
   "outputs": [
    {
     "data": {
      "text/plain": [
       "['changeres.desktop',\n",
       " 'firefox.desktop',\n",
       " 'Presidents.xls',\n",
       " 'ClsExc.ipynb',\n",
       " '.ipynb_checkpoints',\n",
       " 'iris.data',\n",
       " 'Demo.ipynb',\n",
       " 'Assignment_1.ipynb',\n",
       " 'Untitled.ipynb']"
      ]
     },
     "execution_count": 2,
     "metadata": {},
     "output_type": "execute_result"
    }
   ],
   "source": [
    "os.listdir()"
   ]
  },
  {
   "cell_type": "code",
   "execution_count": 3,
   "metadata": {},
   "outputs": [],
   "source": [
    "df = pd.read_excel(\"Presidents.xls\")"
   ]
  },
  {
   "cell_type": "code",
   "execution_count": 4,
   "metadata": {},
   "outputs": [
    {
     "data": {
      "text/html": [
       "<div>\n",
       "<style scoped>\n",
       "    .dataframe tbody tr th:only-of-type {\n",
       "        vertical-align: middle;\n",
       "    }\n",
       "\n",
       "    .dataframe tbody tr th {\n",
       "        vertical-align: top;\n",
       "    }\n",
       "\n",
       "    .dataframe thead th {\n",
       "        text-align: right;\n",
       "    }\n",
       "</style>\n",
       "<table border=\"1\" class=\"dataframe\">\n",
       "  <thead>\n",
       "    <tr style=\"text-align: right;\">\n",
       "      <th></th>\n",
       "      <th>President</th>\n",
       "      <th>Years in office</th>\n",
       "      <th>Year first inaugurated</th>\n",
       "      <th>Age at inauguration</th>\n",
       "      <th>State elected from</th>\n",
       "      <th># of electoral votes</th>\n",
       "      <th># of popular votes</th>\n",
       "      <th>National total votes</th>\n",
       "      <th>Total electoral votes</th>\n",
       "      <th>Rating points</th>\n",
       "      <th>Political Party</th>\n",
       "      <th>Occupation</th>\n",
       "      <th>College</th>\n",
       "      <th>% electoral</th>\n",
       "      <th>% popular</th>\n",
       "    </tr>\n",
       "  </thead>\n",
       "  <tbody>\n",
       "    <tr>\n",
       "      <th>0</th>\n",
       "      <td>George Washington</td>\n",
       "      <td>8.0</td>\n",
       "      <td>1789</td>\n",
       "      <td>57</td>\n",
       "      <td>Virginia</td>\n",
       "      <td>69</td>\n",
       "      <td>NA()</td>\n",
       "      <td>NA()</td>\n",
       "      <td>69</td>\n",
       "      <td>842.0</td>\n",
       "      <td>None</td>\n",
       "      <td>Planter</td>\n",
       "      <td>None</td>\n",
       "      <td>100.000000</td>\n",
       "      <td>NA()</td>\n",
       "    </tr>\n",
       "    <tr>\n",
       "      <th>1</th>\n",
       "      <td>John Adams</td>\n",
       "      <td>4.0</td>\n",
       "      <td>1797</td>\n",
       "      <td>61</td>\n",
       "      <td>Massachusetts</td>\n",
       "      <td>132</td>\n",
       "      <td>NA()</td>\n",
       "      <td>NA()</td>\n",
       "      <td>139</td>\n",
       "      <td>598.0</td>\n",
       "      <td>Federalist</td>\n",
       "      <td>Lawyer</td>\n",
       "      <td>Harvard</td>\n",
       "      <td>94.964029</td>\n",
       "      <td>NA()</td>\n",
       "    </tr>\n",
       "    <tr>\n",
       "      <th>2</th>\n",
       "      <td>Thomas Jefferson</td>\n",
       "      <td>8.0</td>\n",
       "      <td>1801</td>\n",
       "      <td>57</td>\n",
       "      <td>Virginia</td>\n",
       "      <td>73</td>\n",
       "      <td>NA()</td>\n",
       "      <td>NA()</td>\n",
       "      <td>137</td>\n",
       "      <td>711.0</td>\n",
       "      <td>Democratic-Republican</td>\n",
       "      <td>Planter, Lawyer</td>\n",
       "      <td>William and Mary</td>\n",
       "      <td>53.284672</td>\n",
       "      <td>NA()</td>\n",
       "    </tr>\n",
       "    <tr>\n",
       "      <th>3</th>\n",
       "      <td>James Madison</td>\n",
       "      <td>8.0</td>\n",
       "      <td>1809</td>\n",
       "      <td>57</td>\n",
       "      <td>Virginia</td>\n",
       "      <td>122</td>\n",
       "      <td>NA()</td>\n",
       "      <td>NA()</td>\n",
       "      <td>176</td>\n",
       "      <td>567.0</td>\n",
       "      <td>Democratic-Republican</td>\n",
       "      <td>Lawyer</td>\n",
       "      <td>Princeton</td>\n",
       "      <td>69.318182</td>\n",
       "      <td>NA()</td>\n",
       "    </tr>\n",
       "    <tr>\n",
       "      <th>4</th>\n",
       "      <td>James Monroe</td>\n",
       "      <td>8.0</td>\n",
       "      <td>1817</td>\n",
       "      <td>58</td>\n",
       "      <td>Virginia</td>\n",
       "      <td>183</td>\n",
       "      <td>NA()</td>\n",
       "      <td>NA()</td>\n",
       "      <td>221</td>\n",
       "      <td>602.0</td>\n",
       "      <td>Democratic-Republican</td>\n",
       "      <td>Lawyer</td>\n",
       "      <td>William and Mary</td>\n",
       "      <td>82.805430</td>\n",
       "      <td>NA()</td>\n",
       "    </tr>\n",
       "  </tbody>\n",
       "</table>\n",
       "</div>"
      ],
      "text/plain": [
       "           President  Years in office  Year first inaugurated  \\\n",
       "0  George Washington              8.0                    1789   \n",
       "1         John Adams              4.0                    1797   \n",
       "2   Thomas Jefferson              8.0                    1801   \n",
       "3      James Madison              8.0                    1809   \n",
       "4       James Monroe              8.0                    1817   \n",
       "\n",
       "   Age at inauguration State elected from  # of electoral votes  \\\n",
       "0                   57           Virginia                    69   \n",
       "1                   61      Massachusetts                   132   \n",
       "2                   57           Virginia                    73   \n",
       "3                   57           Virginia                   122   \n",
       "4                   58           Virginia                   183   \n",
       "\n",
       "  # of popular votes National total votes  Total electoral votes  \\\n",
       "0               NA()                 NA()                     69   \n",
       "1               NA()                 NA()                    139   \n",
       "2               NA()                 NA()                    137   \n",
       "3               NA()                 NA()                    176   \n",
       "4               NA()                 NA()                    221   \n",
       "\n",
       "   Rating points        Political Party       Occupation           College  \\\n",
       "0          842.0                   None          Planter              None   \n",
       "1          598.0             Federalist           Lawyer           Harvard   \n",
       "2          711.0  Democratic-Republican  Planter, Lawyer  William and Mary   \n",
       "3          567.0  Democratic-Republican           Lawyer         Princeton   \n",
       "4          602.0  Democratic-Republican           Lawyer  William and Mary   \n",
       "\n",
       "   % electoral % popular  \n",
       "0   100.000000      NA()  \n",
       "1    94.964029      NA()  \n",
       "2    53.284672      NA()  \n",
       "3    69.318182      NA()  \n",
       "4    82.805430      NA()  "
      ]
     },
     "execution_count": 4,
     "metadata": {},
     "output_type": "execute_result"
    }
   ],
   "source": [
    "df.head(5)"
   ]
  },
  {
   "cell_type": "code",
   "execution_count": 5,
   "metadata": {},
   "outputs": [
    {
     "data": {
      "image/png": "[encoded data removed]",
      "text/plain": [
       "<Figure size 432x288 with 1 Axes>"
      ]
     },
     "metadata": {},
     "output_type": "display_data"
    }
   ],
   "source": [
    "# plot data\n",
    "colors = ['yellowgreen', 'gold', 'lightskyblue', 'lightcoral','red','green','blue','orange','white','brown']\n",
    "df['Occupation'].value_counts().plot(kind='pie',title='Occupation by President',colors=colors)\n",
    "plt.show()"
   ]
  },
  {
   "cell_type": "code",
   "execution_count": 6,
   "metadata": {},
   "outputs": [
    {
     "name": "stdout",
     "output_type": "stream",
     "text": [
      "6     55.9706\n",
      "7     50.8253\n",
      "8     52.8811\n",
      "9     49.5437\n",
      "10     47.284\n",
      "11    50.8411\n",
      "12    45.2832\n",
      "13    39.8225\n",
      "14    52.6637\n",
      "15    47.9527\n",
      "16    48.2731\n",
      "17    48.5049\n",
      "18    47.8234\n",
      "19    46.0504\n",
      "20     51.009\n",
      "21    51.5783\n",
      "22    41.8401\n",
      "23    60.3029\n",
      "24       58.2\n",
      "25    57.4223\n",
      "26    55.1349\n",
      "27    49.7194\n",
      "28    43.4203\n",
      "29    50.0648\n",
      "30    50.7473\n",
      "31    53.3779\n",
      "32    43.0063\n",
      "33     47.867\n",
      "34    53.6875\n",
      "Name: % popular, dtype: object\n"
     ]
    },
    {
     "name": "stderr",
     "output_type": "stream",
     "text": [
      "/home/student/.local/lib/python3.5/site-packages/matplotlib/axes/_axes.py:6448: UserWarning: The 'normed' kwarg is deprecated, and has been replaced by the 'density' kwarg.\n",
      "  warnings.warn(\"The 'normed' kwarg is deprecated, and has been \"\n"
     ]
    },
    {
     "data": {
      "image/png": "[encoded data removed]",
      "text/plain": [
       "<Figure size 432x288 with 1 Axes>"
      ]
     },
     "metadata": {},
     "output_type": "display_data"
    }
   ],
   "source": [
    "# plot data\n",
    "\n",
    "df = df[df['% popular'] != 'NA()'] \n",
    "print( df['% popular'] )\n",
    "df['% popular'].plot(kind='hist', bins=8, title='Popularity by President', facecolor='blue', alpha=0.5, normed=1)\n",
    "plt.show()"
   ]
  },
  {
   "cell_type": "code",
   "execution_count": null,
   "metadata": {},
   "outputs": [],
   "source": []
  }
 ],
 "metadata": {
  "kernelspec": {
   "display_name": "Python 3",
   "language": "python",
   "name": "python3"
  },
  "language_info": {
   "codemirror_mode": {
    "name": "ipython",
    "version": 3
   },
   "file_extension": ".py",
   "mimetype": "text/x-python",
   "name": "python",
   "nbconvert_exporter": "python",
   "pygments_lexer": "ipython3",
   "version": "3.5.2"
  }
 },
 "nbformat": 4,
 "nbformat_minor": 2
}
